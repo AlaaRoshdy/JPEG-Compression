{
 "cells": [
  {
   "cell_type": "code",
   "execution_count": 6,
   "metadata": {
    "colab": {
     "base_uri": "https://localhost:8080/",
     "height": 202
    },
    "colab_type": "code",
    "id": "vncptJKYWxVC",
    "outputId": "c42405cc-cf98-4ebe-f604-a709a1ed4201"
   },
   "outputs": [
    {
     "name": "stdout",
     "output_type": "stream",
     "text": [
      "--2019-10-24 04:06:01--  https://opidesign.net/wp-content/uploads/landscape-architecture-fun-facts-outside-productions-blog-980x551.jpg\n",
      "Resolving opidesign.net (opidesign.net)... 209.59.148.30\n",
      "Connecting to opidesign.net (opidesign.net)|209.59.148.30|:443... connected.\n",
      "HTTP request sent, awaiting response... 200 OK\n",
      "Length: 82526 (81K) [image/jpeg]\n",
      "Saving to: ‘landscape-architecture-fun-facts-outside-productions-blog-980x551.jpg’\n",
      "\n",
      "landscape-architect 100%[===================>]  80.59K   131KB/s    in 0.6s    \n",
      "\n",
      "2019-10-24 04:06:02 (131 KB/s) - ‘landscape-architecture-fun-facts-outside-productions-blog-980x551.jpg’ saved [82526/82526]\n",
      "\n"
     ]
    }
   ],
   "source": [
    "!wget \"https://opidesign.net/wp-content/uploads/landscape-architecture-fun-facts-outside-productions-blog-980x551.jpg\""
   ]
  },
  {
   "cell_type": "code",
   "execution_count": 1,
   "metadata": {
    "colab": {},
    "colab_type": "code",
    "id": "BAUlF_e4XI4y"
   },
   "outputs": [],
   "source": [
    "from PIL import Image\n",
    "import numpy as np\n",
    "import itertools as it\n",
    "from scipy import fftpack\n",
    "import matplotlib\n",
    "import cv2\n",
    "import matplotlib.pyplot as plt\n",
    "import encoder as e"
   ]
  },
  {
   "cell_type": "code",
   "execution_count": 2,
   "metadata": {},
   "outputs": [
    {
     "name": "stdout",
     "output_type": "stream",
     "text": [
      "[1 2 4 7 5 3 6 8 9 1 2 4 7 5 3 6 8 9]\n"
     ]
    }
   ],
   "source": [
    "matrix =[\n",
    "            [ 1, 2, 3,], \n",
    "            [ 4, 5, 6 ], \n",
    "            [ 7, 8, 9 ]\n",
    "        ]\n",
    "matrix = np.asarray(matrix)\n",
    "m = np.asarray([matrix,matrix])\n",
    "print(e.serialize(m))"
   ]
  },
  {
   "cell_type": "code",
   "execution_count": 7,
   "metadata": {
    "colab": {
     "base_uri": "https://localhost:8080/",
     "height": 34
    },
    "colab_type": "code",
    "id": "ReAl4vBuXb5g",
    "outputId": "5c9aa625-780d-437c-83cd-6d9f178c3fea"
   },
   "outputs": [
    {
     "name": "stdout",
     "output_type": "stream",
     "text": [
      "[161  16 -22 ...  -1   0  -1]\n"
     ]
    }
   ],
   "source": [
    "imageAddress = \"landscape-architecture-fun-facts-outside-productions-blog-980x551.jpg\"\n",
    "IM = Image.open(imageAddress)\n",
    "IM = IM.convert('L')\n",
    "\n",
    "bSize = 8\n",
    "sub_images = e.apply_dct_to_all(e.get_sub_images(IM,bSize))\n",
    "\n",
    "qunatization = np.asarray([i * np.ones(bSize) for i in range(1,bSize+1)]).reshape(bSize,bSize)\n",
    "\n",
    "quantized = e.quantize(b,qunatization)\n",
    "\n",
    "serialized = e.serialize(quantized)\n",
    "\n"
   ]
  },
  {
   "cell_type": "code",
   "execution_count": 3,
   "metadata": {},
   "outputs": [
    {
     "name": "stdout",
     "output_type": "stream",
     "text": [
      "[[143 138 134 ... 162 159 155]\n",
      " [134 135 136 ... 168 168 159]\n",
      " [135 133 131 ... 171 173 167]\n",
      " ...\n",
      " [214 212 210 ... 188 188 188]\n",
      " [214 212 210 ... 188 188 188]\n",
      " [214 212 211 ... 190 190 189]]\n",
      "[[ 1.74716537e+02  6.80338389e+00 -7.51954936e+00 ...  7.07673329e-03\n",
      "  -6.92296114e-03  1.62880415e-03]\n",
      " [-1.36982819e+01  7.45289428e+00 -6.19799957e+00 ...  9.85327524e-03\n",
      "  -7.04860151e-03 -2.76913985e-04]\n",
      " [ 2.11994012e+01  5.78551552e+00 -8.87366245e+00 ...  1.57774033e-02\n",
      "  -1.46863123e-02  9.63704535e-03]\n",
      " ...\n",
      " [ 2.43456277e-02 -2.99246618e-02 -5.04504142e-03 ... -1.08002427e-03\n",
      "  -3.94472404e-03  2.13854273e-03]\n",
      " [-4.68652968e-03  2.09236343e-03 -8.58652536e-03 ...  4.00485055e-03\n",
      "  -4.82312337e-03  1.40258231e-03]\n",
      " [ 1.65030989e-02 -4.37924821e-03 -9.01996611e-03 ... -6.69174635e-03\n",
      "   2.11181281e-03 -9.33743114e-04]]\n",
      "[[-0.  0.  0. ... -0.  0. -0.]\n",
      " [ 0.  0. -0. ... -0.  0. -0.]\n",
      " [-0. -0. -0. ... -0.  0. -0.]\n",
      " ...\n",
      " [-0. -0.  0. ... -0.  0. -0.]\n",
      " [ 0.  0.  0. ...  0.  0. -0.]\n",
      " [-0. -0. -0. ... -0. -0. -0.]]\n"
     ]
    }
   ],
   "source": [
    "b = 256\n",
    "i = j = np.arange(b)\n",
    "basis = lambda u, v: np.dot(np.cos((2*i + 1) * u * np.pi/ (2*b)).reshape(-1,1)\n",
    "                                      ,np.cos((2*j + 1) * v * np.pi/ (2*b)).reshape(1,-1))\n",
    "\n",
    "def DCT(image, bSize = 8):\n",
    "    \n",
    "    block = [image[0:bSize,0:bSize]]\n",
    "    outblock = np.zeros((bSize,bSize))\n",
    "\n",
    "    scale = lambda idx: 2 if idx == 0 else 1\n",
    "\n",
    "    for u in range(bSize):\n",
    "        for v in range(bSize):\n",
    "            outblock[u,v] = np.sum(basis(u,v) * block)/ (b**2/4) / scale(u) / scale(v)\n",
    "            \n",
    "    return outblock\n",
    "\n",
    "\n",
    "def IDCT(image, bSize = 8):\n",
    "    \n",
    "    block = image[0:bSize,0:bSize]\n",
    "    outblock = np.zeros((bSize,bSize))\n",
    "    \n",
    "    for x in range(bSize):\n",
    "        for y in range(bSize):\n",
    "            outblock = outblock + block[x,y] * basis(x,y)\n",
    "    return outblock\n",
    "\n",
    "x = np.zeros((b,b))\n",
    "im = image[0:b,0:b]\n",
    "x = DCT(im, b)\n",
    "print(im)\n",
    "print(x)\n",
    "print(np.round(IDCT(x, b)-im))\n"
   ]
  },
  {
   "cell_type": "code",
   "execution_count": null,
   "metadata": {},
   "outputs": [],
   "source": []
  }
 ],
 "metadata": {
  "colab": {
   "name": "JPEG codec.ipynb",
   "provenance": []
  },
  "kernelspec": {
   "display_name": "Python 3",
   "language": "python",
   "name": "python3"
  },
  "language_info": {
   "codemirror_mode": {
    "name": "ipython",
    "version": 3
   },
   "file_extension": ".py",
   "mimetype": "text/x-python",
   "name": "python",
   "nbconvert_exporter": "python",
   "pygments_lexer": "ipython3",
   "version": "3.7.1"
  }
 },
 "nbformat": 4,
 "nbformat_minor": 2
}
